{
 "cells": [
  {
   "cell_type": "code",
   "execution_count": 2,
   "metadata": {},
   "outputs": [],
   "source": [
    "# Import dependencies\n",
    "import pandas as pd\n",
    "import os"
   ]
  },
  {
   "cell_type": "code",
   "execution_count": 24,
   "metadata": {},
   "outputs": [],
   "source": [
    "# Get the current working directory\n",
    "pwd = os.getcwd()"
   ]
  },
  {
   "cell_type": "code",
   "execution_count": 17,
   "metadata": {},
   "outputs": [],
   "source": [
    "# Create a list to store all the df's ready to concat\n",
    "\n",
    "# Empty list creation\n",
    "concat_dfs = []\n",
    "\n",
    "# Loop through the resources folder to obtain CSV data files\n",
    "for file in os.listdir(pwd + \"\\\\..\\\\Resources\\\\\"):\n",
    "    filename = os.fsdecode(file)\n",
    "    if filename.endswith(\".csv\"):\n",
    "\n",
    "        # Get the car make name from the filename\n",
    "        car_make = filename.split(\".\")[0]\n",
    "\n",
    "        # Create a df\n",
    "        df = pd.read_csv(pwd + \"\\\\..\\\\Resources\\\\\" + filename)\n",
    "        # Add an aditional column for the 'make' of the cars\n",
    "        df['make'] = car_make.title()\n",
    "        # Rearrange the columns\n",
    "        df = df[['make','model', 'year', 'price', 'transmission', 'mileage', 'fuelType', 'tax', 'mpg', 'engineSize']]\n",
    "        # Add the df to the list\n",
    "        concat_dfs.append(df)\n",
    "    else:\n",
    "        # If the file is not CSV, skip\n",
    "        continue"
   ]
  },
  {
   "cell_type": "code",
   "execution_count": 22,
   "metadata": {},
   "outputs": [
    {
     "data": {
      "text/html": [
       "<div>\n",
       "<style scoped>\n",
       "    .dataframe tbody tr th:only-of-type {\n",
       "        vertical-align: middle;\n",
       "    }\n",
       "\n",
       "    .dataframe tbody tr th {\n",
       "        vertical-align: top;\n",
       "    }\n",
       "\n",
       "    .dataframe thead th {\n",
       "        text-align: right;\n",
       "    }\n",
       "</style>\n",
       "<table border=\"1\" class=\"dataframe\">\n",
       "  <thead>\n",
       "    <tr style=\"text-align: right;\">\n",
       "      <th></th>\n",
       "      <th>make</th>\n",
       "      <th>model</th>\n",
       "      <th>year</th>\n",
       "      <th>price</th>\n",
       "      <th>transmission</th>\n",
       "      <th>mileage</th>\n",
       "      <th>fuelType</th>\n",
       "      <th>tax</th>\n",
       "      <th>mpg</th>\n",
       "      <th>engineSize</th>\n",
       "    </tr>\n",
       "  </thead>\n",
       "  <tbody>\n",
       "    <tr>\n",
       "      <th>99182</th>\n",
       "      <td>Volkswagen</td>\n",
       "      <td>Eos</td>\n",
       "      <td>2012</td>\n",
       "      <td>5990</td>\n",
       "      <td>Manual</td>\n",
       "      <td>74000</td>\n",
       "      <td>Diesel</td>\n",
       "      <td>125</td>\n",
       "      <td>58.9</td>\n",
       "      <td>2.0</td>\n",
       "    </tr>\n",
       "    <tr>\n",
       "      <th>99183</th>\n",
       "      <td>Volkswagen</td>\n",
       "      <td>Fox</td>\n",
       "      <td>2008</td>\n",
       "      <td>1799</td>\n",
       "      <td>Manual</td>\n",
       "      <td>88102</td>\n",
       "      <td>Petrol</td>\n",
       "      <td>145</td>\n",
       "      <td>46.3</td>\n",
       "      <td>1.2</td>\n",
       "    </tr>\n",
       "    <tr>\n",
       "      <th>99184</th>\n",
       "      <td>Volkswagen</td>\n",
       "      <td>Fox</td>\n",
       "      <td>2009</td>\n",
       "      <td>1590</td>\n",
       "      <td>Manual</td>\n",
       "      <td>70000</td>\n",
       "      <td>Petrol</td>\n",
       "      <td>200</td>\n",
       "      <td>42.0</td>\n",
       "      <td>1.4</td>\n",
       "    </tr>\n",
       "    <tr>\n",
       "      <th>99185</th>\n",
       "      <td>Volkswagen</td>\n",
       "      <td>Fox</td>\n",
       "      <td>2006</td>\n",
       "      <td>1250</td>\n",
       "      <td>Manual</td>\n",
       "      <td>82704</td>\n",
       "      <td>Petrol</td>\n",
       "      <td>150</td>\n",
       "      <td>46.3</td>\n",
       "      <td>1.2</td>\n",
       "    </tr>\n",
       "    <tr>\n",
       "      <th>99186</th>\n",
       "      <td>Volkswagen</td>\n",
       "      <td>Fox</td>\n",
       "      <td>2007</td>\n",
       "      <td>2295</td>\n",
       "      <td>Manual</td>\n",
       "      <td>74000</td>\n",
       "      <td>Petrol</td>\n",
       "      <td>145</td>\n",
       "      <td>46.3</td>\n",
       "      <td>1.2</td>\n",
       "    </tr>\n",
       "  </tbody>\n",
       "</table>\n",
       "</div>"
      ],
      "text/plain": [
       "             make model  year  price transmission  mileage fuelType  tax  \\\n",
       "99182  Volkswagen   Eos  2012   5990       Manual    74000   Diesel  125   \n",
       "99183  Volkswagen   Fox  2008   1799       Manual    88102   Petrol  145   \n",
       "99184  Volkswagen   Fox  2009   1590       Manual    70000   Petrol  200   \n",
       "99185  Volkswagen   Fox  2006   1250       Manual    82704   Petrol  150   \n",
       "99186  Volkswagen   Fox  2007   2295       Manual    74000   Petrol  145   \n",
       "\n",
       "        mpg  engineSize  \n",
       "99182  58.9         2.0  \n",
       "99183  46.3         1.2  \n",
       "99184  42.0         1.4  \n",
       "99185  46.3         1.2  \n",
       "99186  46.3         1.2  "
      ]
     },
     "execution_count": 22,
     "metadata": {},
     "output_type": "execute_result"
    }
   ],
   "source": [
    "# Concat all the df's\n",
    "concat_df = pd.concat(concat_dfs)\n",
    "\n",
    "# Reset the index to remove duplicate index's\n",
    "concat_df = concat_df.reset_index(drop=True)\n",
    "\n",
    "# View the end of the df to check reset_index result\n",
    "concat_df.tail()"
   ]
  },
  {
   "cell_type": "code",
   "execution_count": 23,
   "metadata": {},
   "outputs": [
    {
     "name": "stdout",
     "output_type": "stream",
     "text": [
      "<class 'pandas.core.frame.DataFrame'>\n",
      "RangeIndex: 99187 entries, 0 to 99186\n",
      "Data columns (total 10 columns):\n",
      " #   Column        Non-Null Count  Dtype  \n",
      "---  ------        --------------  -----  \n",
      " 0   make          99187 non-null  object \n",
      " 1   model         99187 non-null  object \n",
      " 2   year          99187 non-null  int64  \n",
      " 3   price         99187 non-null  int64  \n",
      " 4   transmission  99187 non-null  object \n",
      " 5   mileage       99187 non-null  int64  \n",
      " 6   fuelType      99187 non-null  object \n",
      " 7   tax           99187 non-null  int64  \n",
      " 8   mpg           99187 non-null  float64\n",
      " 9   engineSize    99187 non-null  float64\n",
      "dtypes: float64(2), int64(4), object(4)\n",
      "memory usage: 7.6+ MB\n"
     ]
    }
   ],
   "source": [
    "# Check the df for null values\n",
    "concat_df.info()"
   ]
  },
  {
   "cell_type": "code",
   "execution_count": 25,
   "metadata": {},
   "outputs": [],
   "source": [
    "# Output the completed data to a new csv\n",
    "concat_df.to_csv(\"Outputs/cars_sold_uk.csv\", index=False)"
   ]
  }
 ],
 "metadata": {
  "kernelspec": {
   "display_name": "dev",
   "language": "python",
   "name": "python3"
  },
  "language_info": {
   "codemirror_mode": {
    "name": "ipython",
    "version": 3
   },
   "file_extension": ".py",
   "mimetype": "text/x-python",
   "name": "python",
   "nbconvert_exporter": "python",
   "pygments_lexer": "ipython3",
   "version": "3.11.5"
  }
 },
 "nbformat": 4,
 "nbformat_minor": 2
}
